{
 "cells": [
  {
   "cell_type": "code",
   "execution_count": 23,
   "id": "d7d0bba2",
   "metadata": {},
   "outputs": [],
   "source": [
    "import pandas as pd\n",
    "import numpy as np \n",
    "import matplotlib.pyplot as plt\n",
    "import seaborn as sns\n",
    "import plotly.express as px\n",
    "\n",
    "import warnings\n",
    "warnings.simplefilter('ignore')"
   ]
  },
  {
   "cell_type": "code",
   "execution_count": 4,
   "id": "7aef5750",
   "metadata": {},
   "outputs": [],
   "source": [
    "df = pd.read_csv(\"Latest Covid-19 India Status.csv\")"
   ]
  },
  {
   "cell_type": "code",
   "execution_count": 7,
   "id": "91c43a42",
   "metadata": {},
   "outputs": [
    {
     "data": {
      "text/html": [
       "<div>\n",
       "<style scoped>\n",
       "    .dataframe tbody tr th:only-of-type {\n",
       "        vertical-align: middle;\n",
       "    }\n",
       "\n",
       "    .dataframe tbody tr th {\n",
       "        vertical-align: top;\n",
       "    }\n",
       "\n",
       "    .dataframe thead th {\n",
       "        text-align: right;\n",
       "    }\n",
       "</style>\n",
       "<table border=\"1\" class=\"dataframe\">\n",
       "  <thead>\n",
       "    <tr style=\"text-align: right;\">\n",
       "      <th></th>\n",
       "      <th>State/UTs</th>\n",
       "      <th>Total Cases</th>\n",
       "      <th>Active</th>\n",
       "      <th>Discharged</th>\n",
       "      <th>Deaths</th>\n",
       "      <th>Active Ratio (%)</th>\n",
       "      <th>Discharge Ratio (%)</th>\n",
       "      <th>Death Ratio (%)</th>\n",
       "    </tr>\n",
       "  </thead>\n",
       "  <tbody>\n",
       "    <tr>\n",
       "      <th>0</th>\n",
       "      <td>Andaman and Nicobar</td>\n",
       "      <td>7560</td>\n",
       "      <td>10</td>\n",
       "      <td>7421</td>\n",
       "      <td>129</td>\n",
       "      <td>0.13</td>\n",
       "      <td>98.16</td>\n",
       "      <td>1.71</td>\n",
       "    </tr>\n",
       "    <tr>\n",
       "      <th>1</th>\n",
       "      <td>Andhra Pradesh</td>\n",
       "      <td>2004590</td>\n",
       "      <td>13677</td>\n",
       "      <td>1977163</td>\n",
       "      <td>13750</td>\n",
       "      <td>0.68</td>\n",
       "      <td>98.63</td>\n",
       "      <td>0.69</td>\n",
       "    </tr>\n",
       "    <tr>\n",
       "      <th>2</th>\n",
       "      <td>Arunachal Pradesh</td>\n",
       "      <td>52409</td>\n",
       "      <td>1127</td>\n",
       "      <td>51023</td>\n",
       "      <td>259</td>\n",
       "      <td>2.15</td>\n",
       "      <td>97.36</td>\n",
       "      <td>0.49</td>\n",
       "    </tr>\n",
       "    <tr>\n",
       "      <th>3</th>\n",
       "      <td>Assam</td>\n",
       "      <td>585689</td>\n",
       "      <td>8005</td>\n",
       "      <td>572084</td>\n",
       "      <td>5600</td>\n",
       "      <td>1.37</td>\n",
       "      <td>97.68</td>\n",
       "      <td>0.96</td>\n",
       "    </tr>\n",
       "    <tr>\n",
       "      <th>4</th>\n",
       "      <td>Bihar</td>\n",
       "      <td>725605</td>\n",
       "      <td>102</td>\n",
       "      <td>715853</td>\n",
       "      <td>9650</td>\n",
       "      <td>0.01</td>\n",
       "      <td>98.66</td>\n",
       "      <td>1.33</td>\n",
       "    </tr>\n",
       "  </tbody>\n",
       "</table>\n",
       "</div>"
      ],
      "text/plain": [
       "             State/UTs  Total Cases  Active  Discharged  Deaths  \\\n",
       "0  Andaman and Nicobar         7560      10        7421     129   \n",
       "1       Andhra Pradesh      2004590   13677     1977163   13750   \n",
       "2    Arunachal Pradesh        52409    1127       51023     259   \n",
       "3                Assam       585689    8005      572084    5600   \n",
       "4                Bihar       725605     102      715853    9650   \n",
       "\n",
       "   Active Ratio (%)  Discharge Ratio (%)  Death Ratio (%)  \n",
       "0              0.13                98.16             1.71  \n",
       "1              0.68                98.63             0.69  \n",
       "2              2.15                97.36             0.49  \n",
       "3              1.37                97.68             0.96  \n",
       "4              0.01                98.66             1.33  "
      ]
     },
     "execution_count": 7,
     "metadata": {},
     "output_type": "execute_result"
    }
   ],
   "source": [
    "df.head()"
   ]
  },
  {
   "cell_type": "markdown",
   "id": "7df25cba",
   "metadata": {},
   "source": [
    "## Highest Active Cases\n"
   ]
  },
  {
   "cell_type": "code",
   "execution_count": 15,
   "id": "4c8d7661",
   "metadata": {},
   "outputs": [
    {
     "data": {
      "text/html": [
       "<div>\n",
       "<style scoped>\n",
       "    .dataframe tbody tr th:only-of-type {\n",
       "        vertical-align: middle;\n",
       "    }\n",
       "\n",
       "    .dataframe tbody tr th {\n",
       "        vertical-align: top;\n",
       "    }\n",
       "\n",
       "    .dataframe thead th {\n",
       "        text-align: right;\n",
       "    }\n",
       "</style>\n",
       "<table border=\"1\" class=\"dataframe\">\n",
       "  <thead>\n",
       "    <tr style=\"text-align: right;\">\n",
       "      <th></th>\n",
       "      <th>Active</th>\n",
       "      <th>State/UTs</th>\n",
       "      <th>Total Cases</th>\n",
       "      <th>Discharged</th>\n",
       "      <th>Deaths</th>\n",
       "      <th>Active Ratio (%)</th>\n",
       "      <th>Discharge Ratio (%)</th>\n",
       "      <th>Death Ratio (%)</th>\n",
       "    </tr>\n",
       "  </thead>\n",
       "  <tbody>\n",
       "    <tr>\n",
       "      <th>35</th>\n",
       "      <td>159870</td>\n",
       "      <td>Kerala</td>\n",
       "      <td>3851984</td>\n",
       "      <td>3672357</td>\n",
       "      <td>19757</td>\n",
       "      <td>4.15</td>\n",
       "      <td>95.34</td>\n",
       "      <td>0.51</td>\n",
       "    </tr>\n",
       "    <tr>\n",
       "      <th>34</th>\n",
       "      <td>53260</td>\n",
       "      <td>Maharashtra</td>\n",
       "      <td>6432649</td>\n",
       "      <td>6243034</td>\n",
       "      <td>136355</td>\n",
       "      <td>0.83</td>\n",
       "      <td>97.05</td>\n",
       "      <td>2.12</td>\n",
       "    </tr>\n",
       "    <tr>\n",
       "      <th>33</th>\n",
       "      <td>19810</td>\n",
       "      <td>Karnataka</td>\n",
       "      <td>2941026</td>\n",
       "      <td>2884032</td>\n",
       "      <td>37184</td>\n",
       "      <td>0.67</td>\n",
       "      <td>98.06</td>\n",
       "      <td>1.26</td>\n",
       "    </tr>\n",
       "    <tr>\n",
       "      <th>32</th>\n",
       "      <td>18603</td>\n",
       "      <td>Tamil Nadu</td>\n",
       "      <td>2604074</td>\n",
       "      <td>2550710</td>\n",
       "      <td>34761</td>\n",
       "      <td>0.71</td>\n",
       "      <td>97.95</td>\n",
       "      <td>1.33</td>\n",
       "    </tr>\n",
       "    <tr>\n",
       "      <th>31</th>\n",
       "      <td>13677</td>\n",
       "      <td>Andhra Pradesh</td>\n",
       "      <td>2004590</td>\n",
       "      <td>1977163</td>\n",
       "      <td>13750</td>\n",
       "      <td>0.68</td>\n",
       "      <td>98.63</td>\n",
       "      <td>0.69</td>\n",
       "    </tr>\n",
       "    <tr>\n",
       "      <th>30</th>\n",
       "      <td>9217</td>\n",
       "      <td>West Bengal</td>\n",
       "      <td>1544109</td>\n",
       "      <td>1516509</td>\n",
       "      <td>18383</td>\n",
       "      <td>0.60</td>\n",
       "      <td>98.21</td>\n",
       "      <td>1.19</td>\n",
       "    </tr>\n",
       "    <tr>\n",
       "      <th>29</th>\n",
       "      <td>8005</td>\n",
       "      <td>Assam</td>\n",
       "      <td>585689</td>\n",
       "      <td>572084</td>\n",
       "      <td>5600</td>\n",
       "      <td>1.37</td>\n",
       "      <td>97.68</td>\n",
       "      <td>0.96</td>\n",
       "    </tr>\n",
       "    <tr>\n",
       "      <th>28</th>\n",
       "      <td>7461</td>\n",
       "      <td>Odisha</td>\n",
       "      <td>1002323</td>\n",
       "      <td>987369</td>\n",
       "      <td>7493</td>\n",
       "      <td>0.74</td>\n",
       "      <td>98.51</td>\n",
       "      <td>0.75</td>\n",
       "    </tr>\n",
       "    <tr>\n",
       "      <th>27</th>\n",
       "      <td>6664</td>\n",
       "      <td>Mizoram</td>\n",
       "      <td>54057</td>\n",
       "      <td>47192</td>\n",
       "      <td>201</td>\n",
       "      <td>12.33</td>\n",
       "      <td>87.30</td>\n",
       "      <td>0.37</td>\n",
       "    </tr>\n",
       "    <tr>\n",
       "      <th>26</th>\n",
       "      <td>6276</td>\n",
       "      <td>Telengana</td>\n",
       "      <td>655732</td>\n",
       "      <td>645594</td>\n",
       "      <td>3862</td>\n",
       "      <td>0.96</td>\n",
       "      <td>98.45</td>\n",
       "      <td>0.59</td>\n",
       "    </tr>\n",
       "    <tr>\n",
       "      <th>25</th>\n",
       "      <td>3610</td>\n",
       "      <td>Manipur</td>\n",
       "      <td>111598</td>\n",
       "      <td>106229</td>\n",
       "      <td>1759</td>\n",
       "      <td>3.23</td>\n",
       "      <td>95.19</td>\n",
       "      <td>1.58</td>\n",
       "    </tr>\n",
       "    <tr>\n",
       "      <th>24</th>\n",
       "      <td>2820</td>\n",
       "      <td>Meghalaya</td>\n",
       "      <td>74232</td>\n",
       "      <td>70127</td>\n",
       "      <td>1285</td>\n",
       "      <td>3.80</td>\n",
       "      <td>94.47</td>\n",
       "      <td>1.73</td>\n",
       "    </tr>\n",
       "    <tr>\n",
       "      <th>23</th>\n",
       "      <td>2054</td>\n",
       "      <td>Himachal Pradesh</td>\n",
       "      <td>212260</td>\n",
       "      <td>206628</td>\n",
       "      <td>3578</td>\n",
       "      <td>0.97</td>\n",
       "      <td>97.35</td>\n",
       "      <td>1.69</td>\n",
       "    </tr>\n",
       "    <tr>\n",
       "      <th>22</th>\n",
       "      <td>1548</td>\n",
       "      <td>Sikkim</td>\n",
       "      <td>29477</td>\n",
       "      <td>27562</td>\n",
       "      <td>367</td>\n",
       "      <td>5.25</td>\n",
       "      <td>93.50</td>\n",
       "      <td>1.25</td>\n",
       "    </tr>\n",
       "    <tr>\n",
       "      <th>21</th>\n",
       "      <td>1127</td>\n",
       "      <td>Arunachal Pradesh</td>\n",
       "      <td>52409</td>\n",
       "      <td>51023</td>\n",
       "      <td>259</td>\n",
       "      <td>2.15</td>\n",
       "      <td>97.36</td>\n",
       "      <td>0.49</td>\n",
       "    </tr>\n",
       "    <tr>\n",
       "      <th>20</th>\n",
       "      <td>1113</td>\n",
       "      <td>Tripura</td>\n",
       "      <td>82384</td>\n",
       "      <td>80480</td>\n",
       "      <td>791</td>\n",
       "      <td>1.35</td>\n",
       "      <td>97.69</td>\n",
       "      <td>0.96</td>\n",
       "    </tr>\n",
       "    <tr>\n",
       "      <th>19</th>\n",
       "      <td>1055</td>\n",
       "      <td>Jammu and Kashmir</td>\n",
       "      <td>324420</td>\n",
       "      <td>318961</td>\n",
       "      <td>4404</td>\n",
       "      <td>0.33</td>\n",
       "      <td>98.32</td>\n",
       "      <td>1.36</td>\n",
       "    </tr>\n",
       "    <tr>\n",
       "      <th>18</th>\n",
       "      <td>932</td>\n",
       "      <td>Goa</td>\n",
       "      <td>173357</td>\n",
       "      <td>169239</td>\n",
       "      <td>3186</td>\n",
       "      <td>0.54</td>\n",
       "      <td>97.62</td>\n",
       "      <td>1.84</td>\n",
       "    </tr>\n",
       "    <tr>\n",
       "      <th>17</th>\n",
       "      <td>888</td>\n",
       "      <td>Nagaland</td>\n",
       "      <td>29669</td>\n",
       "      <td>28170</td>\n",
       "      <td>611</td>\n",
       "      <td>2.99</td>\n",
       "      <td>94.95</td>\n",
       "      <td>2.06</td>\n",
       "    </tr>\n",
       "    <tr>\n",
       "      <th>16</th>\n",
       "      <td>765</td>\n",
       "      <td>Puducherry</td>\n",
       "      <td>123007</td>\n",
       "      <td>120433</td>\n",
       "      <td>1809</td>\n",
       "      <td>0.62</td>\n",
       "      <td>97.91</td>\n",
       "      <td>1.47</td>\n",
       "    </tr>\n",
       "    <tr>\n",
       "      <th>15</th>\n",
       "      <td>664</td>\n",
       "      <td>Haryana</td>\n",
       "      <td>770380</td>\n",
       "      <td>760047</td>\n",
       "      <td>9669</td>\n",
       "      <td>0.09</td>\n",
       "      <td>98.66</td>\n",
       "      <td>1.26</td>\n",
       "    </tr>\n",
       "    <tr>\n",
       "      <th>14</th>\n",
       "      <td>653</td>\n",
       "      <td>Chhattisgarh</td>\n",
       "      <td>1004230</td>\n",
       "      <td>990022</td>\n",
       "      <td>13555</td>\n",
       "      <td>0.07</td>\n",
       "      <td>98.59</td>\n",
       "      <td>1.35</td>\n",
       "    </tr>\n",
       "    <tr>\n",
       "      <th>13</th>\n",
       "      <td>423</td>\n",
       "      <td>Punjab</td>\n",
       "      <td>600342</td>\n",
       "      <td>583564</td>\n",
       "      <td>16355</td>\n",
       "      <td>0.07</td>\n",
       "      <td>97.21</td>\n",
       "      <td>2.72</td>\n",
       "    </tr>\n",
       "    <tr>\n",
       "      <th>12</th>\n",
       "      <td>411</td>\n",
       "      <td>Delhi</td>\n",
       "      <td>1437485</td>\n",
       "      <td>1411995</td>\n",
       "      <td>25079</td>\n",
       "      <td>0.03</td>\n",
       "      <td>98.23</td>\n",
       "      <td>1.74</td>\n",
       "    </tr>\n",
       "    <tr>\n",
       "      <th>11</th>\n",
       "      <td>352</td>\n",
       "      <td>Uttar Pradesh</td>\n",
       "      <td>1709152</td>\n",
       "      <td>1686006</td>\n",
       "      <td>22794</td>\n",
       "      <td>0.02</td>\n",
       "      <td>98.65</td>\n",
       "      <td>1.33</td>\n",
       "    </tr>\n",
       "    <tr>\n",
       "      <th>10</th>\n",
       "      <td>310</td>\n",
       "      <td>Uttarakhand</td>\n",
       "      <td>342786</td>\n",
       "      <td>335099</td>\n",
       "      <td>7377</td>\n",
       "      <td>0.09</td>\n",
       "      <td>97.76</td>\n",
       "      <td>2.15</td>\n",
       "    </tr>\n",
       "    <tr>\n",
       "      <th>9</th>\n",
       "      <td>160</td>\n",
       "      <td>Gujarat</td>\n",
       "      <td>825330</td>\n",
       "      <td>815091</td>\n",
       "      <td>10079</td>\n",
       "      <td>0.02</td>\n",
       "      <td>98.76</td>\n",
       "      <td>1.22</td>\n",
       "    </tr>\n",
       "    <tr>\n",
       "      <th>8</th>\n",
       "      <td>153</td>\n",
       "      <td>Jharkhand</td>\n",
       "      <td>347755</td>\n",
       "      <td>342470</td>\n",
       "      <td>5132</td>\n",
       "      <td>0.04</td>\n",
       "      <td>98.48</td>\n",
       "      <td>1.48</td>\n",
       "    </tr>\n",
       "    <tr>\n",
       "      <th>7</th>\n",
       "      <td>128</td>\n",
       "      <td>Rajasthan</td>\n",
       "      <td>954040</td>\n",
       "      <td>944958</td>\n",
       "      <td>8954</td>\n",
       "      <td>0.01</td>\n",
       "      <td>99.05</td>\n",
       "      <td>0.94</td>\n",
       "    </tr>\n",
       "    <tr>\n",
       "      <th>6</th>\n",
       "      <td>102</td>\n",
       "      <td>Bihar</td>\n",
       "      <td>725605</td>\n",
       "      <td>715853</td>\n",
       "      <td>9650</td>\n",
       "      <td>0.01</td>\n",
       "      <td>98.66</td>\n",
       "      <td>1.33</td>\n",
       "    </tr>\n",
       "    <tr>\n",
       "      <th>5</th>\n",
       "      <td>84</td>\n",
       "      <td>Madhya Pradesh</td>\n",
       "      <td>792109</td>\n",
       "      <td>781509</td>\n",
       "      <td>10516</td>\n",
       "      <td>0.01</td>\n",
       "      <td>98.66</td>\n",
       "      <td>1.33</td>\n",
       "    </tr>\n",
       "    <tr>\n",
       "      <th>4</th>\n",
       "      <td>55</td>\n",
       "      <td>Ladakh</td>\n",
       "      <td>20500</td>\n",
       "      <td>20238</td>\n",
       "      <td>207</td>\n",
       "      <td>0.27</td>\n",
       "      <td>98.72</td>\n",
       "      <td>1.01</td>\n",
       "    </tr>\n",
       "    <tr>\n",
       "      <th>3</th>\n",
       "      <td>35</td>\n",
       "      <td>Chandigarh</td>\n",
       "      <td>65069</td>\n",
       "      <td>64222</td>\n",
       "      <td>812</td>\n",
       "      <td>0.05</td>\n",
       "      <td>98.70</td>\n",
       "      <td>1.25</td>\n",
       "    </tr>\n",
       "    <tr>\n",
       "      <th>2</th>\n",
       "      <td>28</td>\n",
       "      <td>Lakshadweep</td>\n",
       "      <td>10318</td>\n",
       "      <td>10239</td>\n",
       "      <td>51</td>\n",
       "      <td>0.27</td>\n",
       "      <td>99.23</td>\n",
       "      <td>0.49</td>\n",
       "    </tr>\n",
       "    <tr>\n",
       "      <th>1</th>\n",
       "      <td>10</td>\n",
       "      <td>Andaman and Nicobar</td>\n",
       "      <td>7560</td>\n",
       "      <td>7421</td>\n",
       "      <td>129</td>\n",
       "      <td>0.13</td>\n",
       "      <td>98.16</td>\n",
       "      <td>1.71</td>\n",
       "    </tr>\n",
       "    <tr>\n",
       "      <th>0</th>\n",
       "      <td>4</td>\n",
       "      <td>Dadra and Nagar Haveli and Daman and Diu</td>\n",
       "      <td>10659</td>\n",
       "      <td>10651</td>\n",
       "      <td>4</td>\n",
       "      <td>0.04</td>\n",
       "      <td>99.92</td>\n",
       "      <td>0.04</td>\n",
       "    </tr>\n",
       "  </tbody>\n",
       "</table>\n",
       "</div>"
      ],
      "text/plain": [
       "    Active                                 State/UTs  Total Cases  Discharged  \\\n",
       "35  159870                                    Kerala      3851984     3672357   \n",
       "34   53260                               Maharashtra      6432649     6243034   \n",
       "33   19810                                 Karnataka      2941026     2884032   \n",
       "32   18603                                Tamil Nadu      2604074     2550710   \n",
       "31   13677                            Andhra Pradesh      2004590     1977163   \n",
       "30    9217                               West Bengal      1544109     1516509   \n",
       "29    8005                                     Assam       585689      572084   \n",
       "28    7461                                    Odisha      1002323      987369   \n",
       "27    6664                                   Mizoram        54057       47192   \n",
       "26    6276                                 Telengana       655732      645594   \n",
       "25    3610                                   Manipur       111598      106229   \n",
       "24    2820                                 Meghalaya        74232       70127   \n",
       "23    2054                          Himachal Pradesh       212260      206628   \n",
       "22    1548                                    Sikkim        29477       27562   \n",
       "21    1127                         Arunachal Pradesh        52409       51023   \n",
       "20    1113                                   Tripura        82384       80480   \n",
       "19    1055                         Jammu and Kashmir       324420      318961   \n",
       "18     932                                       Goa       173357      169239   \n",
       "17     888                                  Nagaland        29669       28170   \n",
       "16     765                                Puducherry       123007      120433   \n",
       "15     664                                   Haryana       770380      760047   \n",
       "14     653                              Chhattisgarh      1004230      990022   \n",
       "13     423                                    Punjab       600342      583564   \n",
       "12     411                                     Delhi      1437485     1411995   \n",
       "11     352                             Uttar Pradesh      1709152     1686006   \n",
       "10     310                               Uttarakhand       342786      335099   \n",
       "9      160                                   Gujarat       825330      815091   \n",
       "8      153                                 Jharkhand       347755      342470   \n",
       "7      128                                 Rajasthan       954040      944958   \n",
       "6      102                                     Bihar       725605      715853   \n",
       "5       84                            Madhya Pradesh       792109      781509   \n",
       "4       55                                    Ladakh        20500       20238   \n",
       "3       35                                Chandigarh        65069       64222   \n",
       "2       28                               Lakshadweep        10318       10239   \n",
       "1       10                       Andaman and Nicobar         7560        7421   \n",
       "0        4  Dadra and Nagar Haveli and Daman and Diu        10659       10651   \n",
       "\n",
       "    Deaths  Active Ratio (%)  Discharge Ratio (%)  Death Ratio (%)  \n",
       "35   19757              4.15                95.34             0.51  \n",
       "34  136355              0.83                97.05             2.12  \n",
       "33   37184              0.67                98.06             1.26  \n",
       "32   34761              0.71                97.95             1.33  \n",
       "31   13750              0.68                98.63             0.69  \n",
       "30   18383              0.60                98.21             1.19  \n",
       "29    5600              1.37                97.68             0.96  \n",
       "28    7493              0.74                98.51             0.75  \n",
       "27     201             12.33                87.30             0.37  \n",
       "26    3862              0.96                98.45             0.59  \n",
       "25    1759              3.23                95.19             1.58  \n",
       "24    1285              3.80                94.47             1.73  \n",
       "23    3578              0.97                97.35             1.69  \n",
       "22     367              5.25                93.50             1.25  \n",
       "21     259              2.15                97.36             0.49  \n",
       "20     791              1.35                97.69             0.96  \n",
       "19    4404              0.33                98.32             1.36  \n",
       "18    3186              0.54                97.62             1.84  \n",
       "17     611              2.99                94.95             2.06  \n",
       "16    1809              0.62                97.91             1.47  \n",
       "15    9669              0.09                98.66             1.26  \n",
       "14   13555              0.07                98.59             1.35  \n",
       "13   16355              0.07                97.21             2.72  \n",
       "12   25079              0.03                98.23             1.74  \n",
       "11   22794              0.02                98.65             1.33  \n",
       "10    7377              0.09                97.76             2.15  \n",
       "9    10079              0.02                98.76             1.22  \n",
       "8     5132              0.04                98.48             1.48  \n",
       "7     8954              0.01                99.05             0.94  \n",
       "6     9650              0.01                98.66             1.33  \n",
       "5    10516              0.01                98.66             1.33  \n",
       "4      207              0.27                98.72             1.01  \n",
       "3      812              0.05                98.70             1.25  \n",
       "2       51              0.27                99.23             0.49  \n",
       "1      129              0.13                98.16             1.71  \n",
       "0        4              0.04                99.92             0.04  "
      ]
     },
     "execution_count": 15,
     "metadata": {},
     "output_type": "execute_result"
    }
   ],
   "source": [
    "act =  df.groupby(['Active']).max().reset_index()\n",
    "act.sort_values('Active' ,ascending=False)"
   ]
  },
  {
   "cell_type": "code",
   "execution_count": 18,
   "id": "cad726ee",
   "metadata": {},
   "outputs": [
    {
     "data": {
      "text/html": [
       "<div>\n",
       "<style scoped>\n",
       "    .dataframe tbody tr th:only-of-type {\n",
       "        vertical-align: middle;\n",
       "    }\n",
       "\n",
       "    .dataframe tbody tr th {\n",
       "        vertical-align: top;\n",
       "    }\n",
       "\n",
       "    .dataframe thead th {\n",
       "        text-align: right;\n",
       "    }\n",
       "</style>\n",
       "<table border=\"1\" class=\"dataframe\">\n",
       "  <thead>\n",
       "    <tr style=\"text-align: right;\">\n",
       "      <th></th>\n",
       "      <th>count</th>\n",
       "      <th>mean</th>\n",
       "      <th>std</th>\n",
       "      <th>min</th>\n",
       "      <th>25%</th>\n",
       "      <th>50%</th>\n",
       "      <th>75%</th>\n",
       "      <th>max</th>\n",
       "    </tr>\n",
       "  </thead>\n",
       "  <tbody>\n",
       "    <tr>\n",
       "      <th>Total Cases</th>\n",
       "      <td>36.0</td>\n",
       "      <td>903121.277778</td>\n",
       "      <td>1.316180e+06</td>\n",
       "      <td>7560.00</td>\n",
       "      <td>71941.2500</td>\n",
       "      <td>466722.000</td>\n",
       "      <td>1.002800e+06</td>\n",
       "      <td>6432649.00</td>\n",
       "    </tr>\n",
       "    <tr>\n",
       "      <th>Active</th>\n",
       "      <td>36.0</td>\n",
       "      <td>8953.527778</td>\n",
       "      <td>2.764992e+04</td>\n",
       "      <td>4.00</td>\n",
       "      <td>158.2500</td>\n",
       "      <td>910.000</td>\n",
       "      <td>6.373000e+03</td>\n",
       "      <td>159870.00</td>\n",
       "    </tr>\n",
       "    <tr>\n",
       "      <th>Discharged</th>\n",
       "      <td>36.0</td>\n",
       "      <td>882063.361111</td>\n",
       "      <td>1.276942e+06</td>\n",
       "      <td>7421.00</td>\n",
       "      <td>68650.7500</td>\n",
       "      <td>457277.000</td>\n",
       "      <td>9.880322e+05</td>\n",
       "      <td>6243034.00</td>\n",
       "    </tr>\n",
       "    <tr>\n",
       "      <th>Deaths</th>\n",
       "      <td>36.0</td>\n",
       "      <td>12104.388889</td>\n",
       "      <td>2.338536e+04</td>\n",
       "      <td>4.00</td>\n",
       "      <td>806.7500</td>\n",
       "      <td>5366.000</td>\n",
       "      <td>1.360375e+04</td>\n",
       "      <td>136355.00</td>\n",
       "    </tr>\n",
       "    <tr>\n",
       "      <th>Active Ratio (%)</th>\n",
       "      <td>36.0</td>\n",
       "      <td>1.263611</td>\n",
       "      <td>2.313456e+00</td>\n",
       "      <td>0.01</td>\n",
       "      <td>0.0650</td>\n",
       "      <td>0.570</td>\n",
       "      <td>1.065000e+00</td>\n",
       "      <td>12.33</td>\n",
       "    </tr>\n",
       "    <tr>\n",
       "      <th>Discharge Ratio (%)</th>\n",
       "      <td>36.0</td>\n",
       "      <td>97.471667</td>\n",
       "      <td>2.239131e+00</td>\n",
       "      <td>87.30</td>\n",
       "      <td>97.3575</td>\n",
       "      <td>98.185</td>\n",
       "      <td>9.865250e+01</td>\n",
       "      <td>99.92</td>\n",
       "    </tr>\n",
       "    <tr>\n",
       "      <th>Death Ratio (%)</th>\n",
       "      <td>36.0</td>\n",
       "      <td>1.265278</td>\n",
       "      <td>5.637704e-01</td>\n",
       "      <td>0.04</td>\n",
       "      <td>0.9550</td>\n",
       "      <td>1.295</td>\n",
       "      <td>1.607500e+00</td>\n",
       "      <td>2.72</td>\n",
       "    </tr>\n",
       "  </tbody>\n",
       "</table>\n",
       "</div>"
      ],
      "text/plain": [
       "                     count           mean           std      min         25%  \\\n",
       "Total Cases           36.0  903121.277778  1.316180e+06  7560.00  71941.2500   \n",
       "Active                36.0    8953.527778  2.764992e+04     4.00    158.2500   \n",
       "Discharged            36.0  882063.361111  1.276942e+06  7421.00  68650.7500   \n",
       "Deaths                36.0   12104.388889  2.338536e+04     4.00    806.7500   \n",
       "Active Ratio (%)      36.0       1.263611  2.313456e+00     0.01      0.0650   \n",
       "Discharge Ratio (%)   36.0      97.471667  2.239131e+00    87.30     97.3575   \n",
       "Death Ratio (%)       36.0       1.265278  5.637704e-01     0.04      0.9550   \n",
       "\n",
       "                            50%           75%         max  \n",
       "Total Cases          466722.000  1.002800e+06  6432649.00  \n",
       "Active                  910.000  6.373000e+03   159870.00  \n",
       "Discharged           457277.000  9.880322e+05  6243034.00  \n",
       "Deaths                 5366.000  1.360375e+04   136355.00  \n",
       "Active Ratio (%)          0.570  1.065000e+00       12.33  \n",
       "Discharge Ratio (%)      98.185  9.865250e+01       99.92  \n",
       "Death Ratio (%)           1.295  1.607500e+00        2.72  "
      ]
     },
     "execution_count": 18,
     "metadata": {},
     "output_type": "execute_result"
    }
   ],
   "source": [
    "df.describe().T"
   ]
  },
  {
   "cell_type": "code",
   "execution_count": 28,
   "id": "2db6932d",
   "metadata": {},
   "outputs": [
    {
     "data": {
      "image/png": "[encoded data removed]",
      "text/plain": [
       "<Figure size 720x720 with 1 Axes>"
      ]
     },
     "metadata": {
      "needs_background": "light"
     },
     "output_type": "display_data"
    }
   ],
   "source": [
    "total_case_sort = df.sort_values(by='Total Cases',ascending = False)\n",
    "plt.figure(figsize= (10,10))\n",
    "sns.barplot(data = total_case_sort,x ='State/UTs',y='Total Cases')\n",
    "plt.xticks(rotation = 90)\n",
    "plt.show()"
   ]
  },
  {
   "cell_type": "code",
   "execution_count": 32,
   "id": "7a924861",
   "metadata": {},
   "outputs": [
    {
     "data": {
      "image/png": "[encoded data removed]",
      "text/plain": [
       "<Figure size 864x288 with 1 Axes>"
      ]
     },
     "metadata": {
      "needs_background": "light"
     },
     "output_type": "display_data"
    }
   ],
   "source": [
    "sns.catplot(data = df,x ='State/UTs',y='Active',kind=\"bar\",height = 4,aspect =3)\n",
    "plt.xticks(rotation = 90)\n",
    "plt.show()"
   ]
  },
  {
   "cell_type": "code",
   "execution_count": 39,
   "id": "c3112e31",
   "metadata": {},
   "outputs": [],
   "source": [
    "status =[]\n",
    "\n",
    "for vals in df['Active']:\n",
    "    if vals>10000:\n",
    "        status.append('high')\n",
    "    else:\n",
    "        status.append('low')\n",
    "\n",
    "df ['Case Status'] = status"
   ]
  },
  {
   "cell_type": "code",
   "execution_count": 37,
   "id": "b5ac2f51",
   "metadata": {},
   "outputs": [
    {
     "data": {
      "text/html": [
       "<div>\n",
       "<style scoped>\n",
       "    .dataframe tbody tr th:only-of-type {\n",
       "        vertical-align: middle;\n",
       "    }\n",
       "\n",
       "    .dataframe tbody tr th {\n",
       "        vertical-align: top;\n",
       "    }\n",
       "\n",
       "    .dataframe thead th {\n",
       "        text-align: right;\n",
       "    }\n",
       "</style>\n",
       "<table border=\"1\" class=\"dataframe\">\n",
       "  <thead>\n",
       "    <tr style=\"text-align: right;\">\n",
       "      <th></th>\n",
       "      <th>State/UTs</th>\n",
       "      <th>Total Cases</th>\n",
       "      <th>Active</th>\n",
       "      <th>Discharged</th>\n",
       "      <th>Deaths</th>\n",
       "      <th>Active Ratio (%)</th>\n",
       "      <th>Discharge Ratio (%)</th>\n",
       "      <th>Death Ratio (%)</th>\n",
       "      <th>Case Status</th>\n",
       "    </tr>\n",
       "  </thead>\n",
       "  <tbody>\n",
       "    <tr>\n",
       "      <th>0</th>\n",
       "      <td>Andaman and Nicobar</td>\n",
       "      <td>7560</td>\n",
       "      <td>10</td>\n",
       "      <td>7421</td>\n",
       "      <td>129</td>\n",
       "      <td>0.13</td>\n",
       "      <td>98.16</td>\n",
       "      <td>1.71</td>\n",
       "      <td>low</td>\n",
       "    </tr>\n",
       "    <tr>\n",
       "      <th>1</th>\n",
       "      <td>Andhra Pradesh</td>\n",
       "      <td>2004590</td>\n",
       "      <td>13677</td>\n",
       "      <td>1977163</td>\n",
       "      <td>13750</td>\n",
       "      <td>0.68</td>\n",
       "      <td>98.63</td>\n",
       "      <td>0.69</td>\n",
       "      <td>high</td>\n",
       "    </tr>\n",
       "    <tr>\n",
       "      <th>2</th>\n",
       "      <td>Arunachal Pradesh</td>\n",
       "      <td>52409</td>\n",
       "      <td>1127</td>\n",
       "      <td>51023</td>\n",
       "      <td>259</td>\n",
       "      <td>2.15</td>\n",
       "      <td>97.36</td>\n",
       "      <td>0.49</td>\n",
       "      <td>low</td>\n",
       "    </tr>\n",
       "    <tr>\n",
       "      <th>3</th>\n",
       "      <td>Assam</td>\n",
       "      <td>585689</td>\n",
       "      <td>8005</td>\n",
       "      <td>572084</td>\n",
       "      <td>5600</td>\n",
       "      <td>1.37</td>\n",
       "      <td>97.68</td>\n",
       "      <td>0.96</td>\n",
       "      <td>low</td>\n",
       "    </tr>\n",
       "    <tr>\n",
       "      <th>4</th>\n",
       "      <td>Bihar</td>\n",
       "      <td>725605</td>\n",
       "      <td>102</td>\n",
       "      <td>715853</td>\n",
       "      <td>9650</td>\n",
       "      <td>0.01</td>\n",
       "      <td>98.66</td>\n",
       "      <td>1.33</td>\n",
       "      <td>low</td>\n",
       "    </tr>\n",
       "  </tbody>\n",
       "</table>\n",
       "</div>"
      ],
      "text/plain": [
       "             State/UTs  Total Cases  Active  Discharged  Deaths  \\\n",
       "0  Andaman and Nicobar         7560      10        7421     129   \n",
       "1       Andhra Pradesh      2004590   13677     1977163   13750   \n",
       "2    Arunachal Pradesh        52409    1127       51023     259   \n",
       "3                Assam       585689    8005      572084    5600   \n",
       "4                Bihar       725605     102      715853    9650   \n",
       "\n",
       "   Active Ratio (%)  Discharge Ratio (%)  Death Ratio (%)  Case Status  \n",
       "0              0.13                98.16             1.71          low  \n",
       "1              0.68                98.63             0.69         high  \n",
       "2              2.15                97.36             0.49          low  \n",
       "3              1.37                97.68             0.96          low  \n",
       "4              0.01                98.66             1.33          low  "
      ]
     },
     "execution_count": 37,
     "metadata": {},
     "output_type": "execute_result"
    }
   ],
   "source": [
    "df.head()\n"
   ]
  },
  {
   "cell_type": "code",
   "execution_count": 41,
   "id": "536b0b53",
   "metadata": {},
   "outputs": [
    {
     "data": {
      "application/vnd.plotly.v1+json": {
       "config": {
        "plotlyServerURL": "https://plot.ly"
       },
       "data": [
        {
         "alignmentgroup": "True",
         "hovertemplate": "Case Status=low<br>State/UTs=%{x}<br>Total Cases=%{y}<extra></extra>",
         "legendgroup": "low",
         "marker": {
          "color": "#636efa",
          "pattern": {
           "shape": ""
          }
         },
         "name": "low",
         "offsetgroup": "low",
         "orientation": "v",
         "showlegend": true,
         "textposition": "auto",
         "type": "bar",
         "x": [
          "Andaman and Nicobar",
          "Arunachal Pradesh",
          "Assam",
          "Bihar",
          "Chandigarh",
          "Chhattisgarh",
          "Dadra and Nagar Haveli and Daman and Diu",
          "Delhi",
          "Goa",
          "Gujarat",
          "Haryana",
          "Himachal Pradesh",
          "Jammu and Kashmir",
          "Jharkhand",
          "Ladakh",
          "Lakshadweep",
          "Madhya Pradesh",
          "Manipur",
          "Meghalaya",
          "Mizoram",
          "Nagaland",
          "Odisha",
          "Puducherry",
          "Punjab",
          "Rajasthan",
          "Sikkim",
          "Telengana",
          "Tripura",
          "Uttar Pradesh",
          "Uttarakhand",
          "West Bengal"
         ],
         "xaxis": "x",
         "y": [
          7560,
          52409,
          585689,
          725605,
          65069,
          1004230,
          10659,
          1437485,
          173357,
          825330,
          770380,
          212260,
          324420,
          347755,
          20500,
          10318,
          792109,
          111598,
          74232,
          54057,
          29669,
          1002323,
          123007,
          600342,
          954040,
          29477,
          655732,
          82384,
          1709152,
          342786,
          1544109
         ],
         "yaxis": "y"
        },
        {
         "alignmentgroup": "True",
         "hovertemplate": "Case Status=high<br>State/UTs=%{x}<br>Total Cases=%{y}<extra></extra>",
         "legendgroup": "high",
         "marker": {
          "color": "#EF553B",
          "pattern": {
           "shape": ""
          }
         },
         "name": "high",
         "offsetgroup": "high",
         "orientation": "v",
         "showlegend": true,
         "textposition": "auto",
         "type": "bar",
         "x": [
          "Andhra Pradesh",
          "Karnataka",
          "Kerala",
          "Maharashtra",
          "Tamil Nadu"
         ],
         "xaxis": "x",
         "y": [
          2004590,
          2941026,
          3851984,
          6432649,
          2604074
         ],
         "yaxis": "y"
        }
       ],
       "layout": {
        "barmode": "relative",
        "legend": {
         "title": {
          "text": "Case Status"
         },
         "tracegroupgap": 0
        },
        "margin": {
         "t": 60
        },
        "template": {
         "data": {
          "bar": [
           {
            "error_x": {
             "color": "#2a3f5f"
            },
            "error_y": {
             "color": "#2a3f5f"
            },
            "marker": {
             "line": {
              "color": "#E5ECF6",
              "width": 0.5
             },
             "pattern": {
              "fillmode": "overlay",
              "size": 10,
              "solidity": 0.2
             }
            },
            "type": "bar"
           }
          ],
          "barpolar": [
           {
            "marker": {
             "line": {
              "color": "#E5ECF6",
              "width": 0.5
             },
             "pattern": {
              "fillmode": "overlay",
              "size": 10,
              "solidity": 0.2
             }
            },
            "type": "barpolar"
           }
          ],
          "carpet": [
           {
            "aaxis": {
             "endlinecolor": "#2a3f5f",
             "gridcolor": "white",
             "linecolor": "white",
             "minorgridcolor": "white",
             "startlinecolor": "#2a3f5f"
            },
            "baxis": {
             "endlinecolor": "#2a3f5f",
             "gridcolor": "white",
             "linecolor": "white",
             "minorgridcolor": "white",
             "startlinecolor": "#2a3f5f"
            },
            "type": "carpet"
           }
          ],
          "choropleth": [
           {
            "colorbar": {
             "outlinewidth": 0,
             "ticks": ""
            },
            "type": "choropleth"
           }
          ],
          "contour": [
           {
            "colorbar": {
             "outlinewidth": 0,
             "ticks": ""
            },
            "colorscale": [
             [
              0,
              "#0d0887"
             ],
             [
              0.1111111111111111,
              "#46039f"
             ],
             [
              0.2222222222222222,
              "#7201a8"
             ],
             [
              0.3333333333333333,
              "#9c179e"
             ],
             [
              0.4444444444444444,
              "#bd3786"
             ],
             [
              0.5555555555555556,
              "#d8576b"
             ],
             [
              0.6666666666666666,
              "#ed7953"
             ],
             [
              0.7777777777777778,
              "#fb9f3a"
             ],
             [
              0.8888888888888888,
              "#fdca26"
             ],
             [
              1,
              "#f0f921"
             ]
            ],
            "type": "contour"
           }
          ],
          "contourcarpet": [
           {
            "colorbar": {
             "outlinewidth": 0,
             "ticks": ""
            },
            "type": "contourcarpet"
           }
          ],
          "heatmap": [
           {
            "colorbar": {
             "outlinewidth": 0,
             "ticks": ""
            },
            "colorscale": [
             [
              0,
              "#0d0887"
             ],
             [
              0.1111111111111111,
              "#46039f"
             ],
             [
              0.2222222222222222,
              "#7201a8"
             ],
             [
              0.3333333333333333,
              "#9c179e"
             ],
             [
              0.4444444444444444,
              "#bd3786"
             ],
             [
              0.5555555555555556,
              "#d8576b"
             ],
             [
              0.6666666666666666,
              "#ed7953"
             ],
             [
              0.7777777777777778,
              "#fb9f3a"
             ],
             [
              0.8888888888888888,
              "#fdca26"
             ],
             [
              1,
              "#f0f921"
             ]
            ],
            "type": "heatmap"
           }
          ],
          "heatmapgl": [
           {
            "colorbar": {
             "outlinewidth": 0,
             "ticks": ""
            },
            "colorscale": [
             [
              0,
              "#0d0887"
             ],
             [
              0.1111111111111111,
              "#46039f"
             ],
             [
              0.2222222222222222,
              "#7201a8"
             ],
             [
              0.3333333333333333,
              "#9c179e"
             ],
             [
              0.4444444444444444,
              "#bd3786"
             ],
             [
              0.5555555555555556,
              "#d8576b"
             ],
             [
              0.6666666666666666,
              "#ed7953"
             ],
             [
              0.7777777777777778,
              "#fb9f3a"
             ],
             [
              0.8888888888888888,
              "#fdca26"
             ],
             [
              1,
              "#f0f921"
             ]
            ],
            "type": "heatmapgl"
           }
          ],
          "histogram": [
           {
            "marker": {
             "pattern": {
              "fillmode": "overlay",
              "size": 10,
              "solidity": 0.2
             }
            },
            "type": "histogram"
           }
          ],
          "histogram2d": [
           {
            "colorbar": {
             "outlinewidth": 0,
             "ticks": ""
            },
            "colorscale": [
             [
              0,
              "#0d0887"
             ],
             [
              0.1111111111111111,
              "#46039f"
             ],
             [
              0.2222222222222222,
              "#7201a8"
             ],
             [
              0.3333333333333333,
              "#9c179e"
             ],
             [
              0.4444444444444444,
              "#bd3786"
             ],
             [
              0.5555555555555556,
              "#d8576b"
             ],
             [
              0.6666666666666666,
              "#ed7953"
             ],
             [
              0.7777777777777778,
              "#fb9f3a"
             ],
             [
              0.8888888888888888,
              "#fdca26"
             ],
             [
              1,
              "#f0f921"
             ]
            ],
            "type": "histogram2d"
           }
          ],
          "histogram2dcontour": [
           {
            "colorbar": {
             "outlinewidth": 0,
             "ticks": ""
            },
            "colorscale": [
             [
              0,
              "#0d0887"
             ],
             [
              0.1111111111111111,
              "#46039f"
             ],
             [
              0.2222222222222222,
              "#7201a8"
             ],
             [
              0.3333333333333333,
              "#9c179e"
             ],
             [
              0.4444444444444444,
              "#bd3786"
             ],
             [
              0.5555555555555556,
              "#d8576b"
             ],
             [
              0.6666666666666666,
              "#ed7953"
             ],
             [
              0.7777777777777778,
              "#fb9f3a"
             ],
             [
              0.8888888888888888,
              "#fdca26"
             ],
             [
              1,
              "#f0f921"
             ]
            ],
            "type": "histogram2dcontour"
           }
          ],
          "mesh3d": [
           {
            "colorbar": {
             "outlinewidth": 0,
             "ticks": ""
            },
            "type": "mesh3d"
           }
          ],
          "parcoords": [
           {
            "line": {
             "colorbar": {
              "outlinewidth": 0,
              "ticks": ""
             }
            },
            "type": "parcoords"
           }
          ],
          "pie": [
           {
            "automargin": true,
            "type": "pie"
           }
          ],
          "scatter": [
           {
            "marker": {
             "colorbar": {
              "outlinewidth": 0,
              "ticks": ""
             }
            },
            "type": "scatter"
           }
          ],
          "scatter3d": [
           {
            "line": {
             "colorbar": {
              "outlinewidth": 0,
              "ticks": ""
             }
            },
            "marker": {
             "colorbar": {
              "outlinewidth": 0,
              "ticks": ""
             }
            },
            "type": "scatter3d"
           }
          ],
          "scattercarpet": [
           {
            "marker": {
             "colorbar": {
              "outlinewidth": 0,
              "ticks": ""
             }
            },
            "type": "scattercarpet"
           }
          ],
          "scattergeo": [
           {
            "marker": {
             "colorbar": {
              "outlinewidth": 0,
              "ticks": ""
             }
            },
            "type": "scattergeo"
           }
          ],
          "scattergl": [
           {
            "marker": {
             "colorbar": {
              "outlinewidth": 0,
              "ticks": ""
             }
            },
            "type": "scattergl"
           }
          ],
          "scattermapbox": [
           {
            "marker": {
             "colorbar": {
              "outlinewidth": 0,
              "ticks": ""
             }
            },
            "type": "scattermapbox"
           }
          ],
          "scatterpolar": [
           {
            "marker": {
             "colorbar": {
              "outlinewidth": 0,
              "ticks": ""
             }
            },
            "type": "scatterpolar"
           }
          ],
          "scatterpolargl": [
           {
            "marker": {
             "colorbar": {
              "outlinewidth": 0,
              "ticks": ""
             }
            },
            "type": "scatterpolargl"
           }
          ],
          "scatterternary": [
           {
            "marker": {
             "colorbar": {
              "outlinewidth": 0,
              "ticks": ""
             }
            },
            "type": "scatterternary"
           }
          ],
          "surface": [
           {
            "colorbar": {
             "outlinewidth": 0,
             "ticks": ""
            },
            "colorscale": [
             [
              0,
              "#0d0887"
             ],
             [
              0.1111111111111111,
              "#46039f"
             ],
             [
              0.2222222222222222,
              "#7201a8"
             ],
             [
              0.3333333333333333,
              "#9c179e"
             ],
             [
              0.4444444444444444,
              "#bd3786"
             ],
             [
              0.5555555555555556,
              "#d8576b"
             ],
             [
              0.6666666666666666,
              "#ed7953"
             ],
             [
              0.7777777777777778,
              "#fb9f3a"
             ],
             [
              0.8888888888888888,
              "#fdca26"
             ],
             [
              1,
              "#f0f921"
             ]
            ],
            "type": "surface"
           }
          ],
          "table": [
           {
            "cells": {
             "fill": {
              "color": "#EBF0F8"
             },
             "line": {
              "color": "white"
             }
            },
            "header": {
             "fill": {
              "color": "#C8D4E3"
             },
             "line": {
              "color": "white"
             }
            },
            "type": "table"
           }
          ]
         },
         "layout": {
          "annotationdefaults": {
           "arrowcolor": "#2a3f5f",
           "arrowhead": 0,
           "arrowwidth": 1
          },
          "autotypenumbers": "strict",
          "coloraxis": {
           "colorbar": {
            "outlinewidth": 0,
            "ticks": ""
           }
          },
          "colorscale": {
           "diverging": [
            [
             0,
             "#8e0152"
            ],
            [
             0.1,
             "#c51b7d"
            ],
            [
             0.2,
             "#de77ae"
            ],
            [
             0.3,
             "#f1b6da"
            ],
            [
             0.4,
             "#fde0ef"
            ],
            [
             0.5,
             "#f7f7f7"
            ],
            [
             0.6,
             "#e6f5d0"
            ],
            [
             0.7,
             "#b8e186"
            ],
            [
             0.8,
             "#7fbc41"
            ],
            [
             0.9,
             "#4d9221"
            ],
            [
             1,
             "#276419"
            ]
           ],
           "sequential": [
            [
             0,
             "#0d0887"
            ],
            [
             0.1111111111111111,
             "#46039f"
            ],
            [
             0.2222222222222222,
             "#7201a8"
            ],
            [
             0.3333333333333333,
             "#9c179e"
            ],
            [
             0.4444444444444444,
             "#bd3786"
            ],
            [
             0.5555555555555556,
             "#d8576b"
            ],
            [
             0.6666666666666666,
             "#ed7953"
            ],
            [
             0.7777777777777778,
             "#fb9f3a"
            ],
            [
             0.8888888888888888,
             "#fdca26"
            ],
            [
             1,
             "#f0f921"
            ]
           ],
           "sequentialminus": [
            [
             0,
             "#0d0887"
            ],
            [
             0.1111111111111111,
             "#46039f"
            ],
            [
             0.2222222222222222,
             "#7201a8"
            ],
            [
             0.3333333333333333,
             "#9c179e"
            ],
            [
             0.4444444444444444,
             "#bd3786"
            ],
            [
             0.5555555555555556,
             "#d8576b"
            ],
            [
             0.6666666666666666,
             "#ed7953"
            ],
            [
             0.7777777777777778,
             "#fb9f3a"
            ],
            [
             0.8888888888888888,
             "#fdca26"
            ],
            [
             1,
             "#f0f921"
            ]
           ]
          },
          "colorway": [
           "#636efa",
           "#EF553B",
           "#00cc96",
           "#ab63fa",
           "#FFA15A",
           "#19d3f3",
           "#FF6692",
           "#B6E880",
           "#FF97FF",
           "#FECB52"
          ],
          "font": {
           "color": "#2a3f5f"
          },
          "geo": {
           "bgcolor": "white",
           "lakecolor": "white",
           "landcolor": "#E5ECF6",
           "showlakes": true,
           "showland": true,
           "subunitcolor": "white"
          },
          "hoverlabel": {
           "align": "left"
          },
          "hovermode": "closest",
          "mapbox": {
           "style": "light"
          },
          "paper_bgcolor": "white",
          "plot_bgcolor": "#E5ECF6",
          "polar": {
           "angularaxis": {
            "gridcolor": "white",
            "linecolor": "white",
            "ticks": ""
           },
           "bgcolor": "#E5ECF6",
           "radialaxis": {
            "gridcolor": "white",
            "linecolor": "white",
            "ticks": ""
           }
          },
          "scene": {
           "xaxis": {
            "backgroundcolor": "#E5ECF6",
            "gridcolor": "white",
            "gridwidth": 2,
            "linecolor": "white",
            "showbackground": true,
            "ticks": "",
            "zerolinecolor": "white"
           },
           "yaxis": {
            "backgroundcolor": "#E5ECF6",
            "gridcolor": "white",
            "gridwidth": 2,
            "linecolor": "white",
            "showbackground": true,
            "ticks": "",
            "zerolinecolor": "white"
           },
           "zaxis": {
            "backgroundcolor": "#E5ECF6",
            "gridcolor": "white",
            "gridwidth": 2,
            "linecolor": "white",
            "showbackground": true,
            "ticks": "",
            "zerolinecolor": "white"
           }
          },
          "shapedefaults": {
           "line": {
            "color": "#2a3f5f"
           }
          },
          "ternary": {
           "aaxis": {
            "gridcolor": "white",
            "linecolor": "white",
            "ticks": ""
           },
           "baxis": {
            "gridcolor": "white",
            "linecolor": "white",
            "ticks": ""
           },
           "bgcolor": "#E5ECF6",
           "caxis": {
            "gridcolor": "white",
            "linecolor": "white",
            "ticks": ""
           }
          },
          "title": {
           "x": 0.05
          },
          "xaxis": {
           "automargin": true,
           "gridcolor": "white",
           "linecolor": "white",
           "ticks": "",
           "title": {
            "standoff": 15
           },
           "zerolinecolor": "white",
           "zerolinewidth": 2
          },
          "yaxis": {
           "automargin": true,
           "gridcolor": "white",
           "linecolor": "white",
           "ticks": "",
           "title": {
            "standoff": 15
           },
           "zerolinecolor": "white",
           "zerolinewidth": 2
          }
         }
        },
        "xaxis": {
         "anchor": "y",
         "domain": [
          0,
          1
         ],
         "title": {
          "text": "State/UTs"
         }
        },
        "yaxis": {
         "anchor": "x",
         "domain": [
          0,
          1
         ],
         "title": {
          "text": "Total Cases"
         }
        }
       }
      },
      "text/html": [
       "<div>                            <div id=\"fa905a63-ece9-4165-a52a-57398f654702\" class=\"plotly-graph-div\" style=\"height:525px; width:100%;\"></div>            <script type=\"text/javascript\">                require([\"plotly\"], function(Plotly) {                    window.PLOTLYENV=window.PLOTLYENV || {};                                    if (document.getElementById(\"fa905a63-ece9-4165-a52a-57398f654702\")) {                    Plotly.newPlot(                        \"fa905a63-ece9-4165-a52a-57398f654702\",                        [{\"alignmentgroup\":\"True\",\"hovertemplate\":\"Case Status=low<br>State/UTs=%{x}<br>Total Cases=%{y}<extra></extra>\",\"legendgroup\":\"low\",\"marker\":{\"color\":\"#636efa\",\"pattern\":{\"shape\":\"\"}},\"name\":\"low\",\"offsetgroup\":\"low\",\"orientation\":\"v\",\"showlegend\":true,\"textposition\":\"auto\",\"type\":\"bar\",\"x\":[\"Andaman and Nicobar\",\"Arunachal Pradesh\",\"Assam\",\"Bihar\",\"Chandigarh\",\"Chhattisgarh\",\"Dadra and Nagar Haveli and Daman and Diu\",\"Delhi\",\"Goa\",\"Gujarat\",\"Haryana\",\"Himachal Pradesh\",\"Jammu and Kashmir\",\"Jharkhand\",\"Ladakh\",\"Lakshadweep\",\"Madhya Pradesh\",\"Manipur\",\"Meghalaya\",\"Mizoram\",\"Nagaland\",\"Odisha\",\"Puducherry\",\"Punjab\",\"Rajasthan\",\"Sikkim\",\"Telengana\",\"Tripura\",\"Uttar Pradesh\",\"Uttarakhand\",\"West Bengal\"],\"xaxis\":\"x\",\"y\":[7560,52409,585689,725605,65069,1004230,10659,1437485,173357,825330,770380,212260,324420,347755,20500,10318,792109,111598,74232,54057,29669,1002323,123007,600342,954040,29477,655732,82384,1709152,342786,1544109],\"yaxis\":\"y\"},{\"alignmentgroup\":\"True\",\"hovertemplate\":\"Case Status=high<br>State/UTs=%{x}<br>Total Cases=%{y}<extra></extra>\",\"legendgroup\":\"high\",\"marker\":{\"color\":\"#EF553B\",\"pattern\":{\"shape\":\"\"}},\"name\":\"high\",\"offsetgroup\":\"high\",\"orientation\":\"v\",\"showlegend\":true,\"textposition\":\"auto\",\"type\":\"bar\",\"x\":[\"Andhra Pradesh\",\"Karnataka\",\"Kerala\",\"Maharashtra\",\"Tamil Nadu\"],\"xaxis\":\"x\",\"y\":[2004590,2941026,3851984,6432649,2604074],\"yaxis\":\"y\"}],                        {\"barmode\":\"relative\",\"legend\":{\"title\":{\"text\":\"Case Status\"},\"tracegroupgap\":0},\"margin\":{\"t\":60},\"template\":{\"data\":{\"bar\":[{\"error_x\":{\"color\":\"#2a3f5f\"},\"error_y\":{\"color\":\"#2a3f5f\"},\"marker\":{\"line\":{\"color\":\"#E5ECF6\",\"width\":0.5},\"pattern\":{\"fillmode\":\"overlay\",\"size\":10,\"solidity\":0.2}},\"type\":\"bar\"}],\"barpolar\":[{\"marker\":{\"line\":{\"color\":\"#E5ECF6\",\"width\":0.5},\"pattern\":{\"fillmode\":\"overlay\",\"size\":10,\"solidity\":0.2}},\"type\":\"barpolar\"}],\"carpet\":[{\"aaxis\":{\"endlinecolor\":\"#2a3f5f\",\"gridcolor\":\"white\",\"linecolor\":\"white\",\"minorgridcolor\":\"white\",\"startlinecolor\":\"#2a3f5f\"},\"baxis\":{\"endlinecolor\":\"#2a3f5f\",\"gridcolor\":\"white\",\"linecolor\":\"white\",\"minorgridcolor\":\"white\",\"startlinecolor\":\"#2a3f5f\"},\"type\":\"carpet\"}],\"choropleth\":[{\"colorbar\":{\"outlinewidth\":0,\"ticks\":\"\"},\"type\":\"choropleth\"}],\"contour\":[{\"colorbar\":{\"outlinewidth\":0,\"ticks\":\"\"},\"colorscale\":[[0.0,\"#0d0887\"],[0.1111111111111111,\"#46039f\"],[0.2222222222222222,\"#7201a8\"],[0.3333333333333333,\"#9c179e\"],[0.4444444444444444,\"#bd3786\"],[0.5555555555555556,\"#d8576b\"],[0.6666666666666666,\"#ed7953\"],[0.7777777777777778,\"#fb9f3a\"],[0.8888888888888888,\"#fdca26\"],[1.0,\"#f0f921\"]],\"type\":\"contour\"}],\"contourcarpet\":[{\"colorbar\":{\"outlinewidth\":0,\"ticks\":\"\"},\"type\":\"contourcarpet\"}],\"heatmap\":[{\"colorbar\":{\"outlinewidth\":0,\"ticks\":\"\"},\"colorscale\":[[0.0,\"#0d0887\"],[0.1111111111111111,\"#46039f\"],[0.2222222222222222,\"#7201a8\"],[0.3333333333333333,\"#9c179e\"],[0.4444444444444444,\"#bd3786\"],[0.5555555555555556,\"#d8576b\"],[0.6666666666666666,\"#ed7953\"],[0.7777777777777778,\"#fb9f3a\"],[0.8888888888888888,\"#fdca26\"],[1.0,\"#f0f921\"]],\"type\":\"heatmap\"}],\"heatmapgl\":[{\"colorbar\":{\"outlinewidth\":0,\"ticks\":\"\"},\"colorscale\":[[0.0,\"#0d0887\"],[0.1111111111111111,\"#46039f\"],[0.2222222222222222,\"#7201a8\"],[0.3333333333333333,\"#9c179e\"],[0.4444444444444444,\"#bd3786\"],[0.5555555555555556,\"#d8576b\"],[0.6666666666666666,\"#ed7953\"],[0.7777777777777778,\"#fb9f3a\"],[0.8888888888888888,\"#fdca26\"],[1.0,\"#f0f921\"]],\"type\":\"heatmapgl\"}],\"histogram\":[{\"marker\":{\"pattern\":{\"fillmode\":\"overlay\",\"size\":10,\"solidity\":0.2}},\"type\":\"histogram\"}],\"histogram2d\":[{\"colorbar\":{\"outlinewidth\":0,\"ticks\":\"\"},\"colorscale\":[[0.0,\"#0d0887\"],[0.1111111111111111,\"#46039f\"],[0.2222222222222222,\"#7201a8\"],[0.3333333333333333,\"#9c179e\"],[0.4444444444444444,\"#bd3786\"],[0.5555555555555556,\"#d8576b\"],[0.6666666666666666,\"#ed7953\"],[0.7777777777777778,\"#fb9f3a\"],[0.8888888888888888,\"#fdca26\"],[1.0,\"#f0f921\"]],\"type\":\"histogram2d\"}],\"histogram2dcontour\":[{\"colorbar\":{\"outlinewidth\":0,\"ticks\":\"\"},\"colorscale\":[[0.0,\"#0d0887\"],[0.1111111111111111,\"#46039f\"],[0.2222222222222222,\"#7201a8\"],[0.3333333333333333,\"#9c179e\"],[0.4444444444444444,\"#bd3786\"],[0.5555555555555556,\"#d8576b\"],[0.6666666666666666,\"#ed7953\"],[0.7777777777777778,\"#fb9f3a\"],[0.8888888888888888,\"#fdca26\"],[1.0,\"#f0f921\"]],\"type\":\"histogram2dcontour\"}],\"mesh3d\":[{\"colorbar\":{\"outlinewidth\":0,\"ticks\":\"\"},\"type\":\"mesh3d\"}],\"parcoords\":[{\"line\":{\"colorbar\":{\"outlinewidth\":0,\"ticks\":\"\"}},\"type\":\"parcoords\"}],\"pie\":[{\"automargin\":true,\"type\":\"pie\"}],\"scatter\":[{\"marker\":{\"colorbar\":{\"outlinewidth\":0,\"ticks\":\"\"}},\"type\":\"scatter\"}],\"scatter3d\":[{\"line\":{\"colorbar\":{\"outlinewidth\":0,\"ticks\":\"\"}},\"marker\":{\"colorbar\":{\"outlinewidth\":0,\"ticks\":\"\"}},\"type\":\"scatter3d\"}],\"scattercarpet\":[{\"marker\":{\"colorbar\":{\"outlinewidth\":0,\"ticks\":\"\"}},\"type\":\"scattercarpet\"}],\"scattergeo\":[{\"marker\":{\"colorbar\":{\"outlinewidth\":0,\"ticks\":\"\"}},\"type\":\"scattergeo\"}],\"scattergl\":[{\"marker\":{\"colorbar\":{\"outlinewidth\":0,\"ticks\":\"\"}},\"type\":\"scattergl\"}],\"scattermapbox\":[{\"marker\":{\"colorbar\":{\"outlinewidth\":0,\"ticks\":\"\"}},\"type\":\"scattermapbox\"}],\"scatterpolar\":[{\"marker\":{\"colorbar\":{\"outlinewidth\":0,\"ticks\":\"\"}},\"type\":\"scatterpolar\"}],\"scatterpolargl\":[{\"marker\":{\"colorbar\":{\"outlinewidth\":0,\"ticks\":\"\"}},\"type\":\"scatterpolargl\"}],\"scatterternary\":[{\"marker\":{\"colorbar\":{\"outlinewidth\":0,\"ticks\":\"\"}},\"type\":\"scatterternary\"}],\"surface\":[{\"colorbar\":{\"outlinewidth\":0,\"ticks\":\"\"},\"colorscale\":[[0.0,\"#0d0887\"],[0.1111111111111111,\"#46039f\"],[0.2222222222222222,\"#7201a8\"],[0.3333333333333333,\"#9c179e\"],[0.4444444444444444,\"#bd3786\"],[0.5555555555555556,\"#d8576b\"],[0.6666666666666666,\"#ed7953\"],[0.7777777777777778,\"#fb9f3a\"],[0.8888888888888888,\"#fdca26\"],[1.0,\"#f0f921\"]],\"type\":\"surface\"}],\"table\":[{\"cells\":{\"fill\":{\"color\":\"#EBF0F8\"},\"line\":{\"color\":\"white\"}},\"header\":{\"fill\":{\"color\":\"#C8D4E3\"},\"line\":{\"color\":\"white\"}},\"type\":\"table\"}]},\"layout\":{\"annotationdefaults\":{\"arrowcolor\":\"#2a3f5f\",\"arrowhead\":0,\"arrowwidth\":1},\"autotypenumbers\":\"strict\",\"coloraxis\":{\"colorbar\":{\"outlinewidth\":0,\"ticks\":\"\"}},\"colorscale\":{\"diverging\":[[0,\"#8e0152\"],[0.1,\"#c51b7d\"],[0.2,\"#de77ae\"],[0.3,\"#f1b6da\"],[0.4,\"#fde0ef\"],[0.5,\"#f7f7f7\"],[0.6,\"#e6f5d0\"],[0.7,\"#b8e186\"],[0.8,\"#7fbc41\"],[0.9,\"#4d9221\"],[1,\"#276419\"]],\"sequential\":[[0.0,\"#0d0887\"],[0.1111111111111111,\"#46039f\"],[0.2222222222222222,\"#7201a8\"],[0.3333333333333333,\"#9c179e\"],[0.4444444444444444,\"#bd3786\"],[0.5555555555555556,\"#d8576b\"],[0.6666666666666666,\"#ed7953\"],[0.7777777777777778,\"#fb9f3a\"],[0.8888888888888888,\"#fdca26\"],[1.0,\"#f0f921\"]],\"sequentialminus\":[[0.0,\"#0d0887\"],[0.1111111111111111,\"#46039f\"],[0.2222222222222222,\"#7201a8\"],[0.3333333333333333,\"#9c179e\"],[0.4444444444444444,\"#bd3786\"],[0.5555555555555556,\"#d8576b\"],[0.6666666666666666,\"#ed7953\"],[0.7777777777777778,\"#fb9f3a\"],[0.8888888888888888,\"#fdca26\"],[1.0,\"#f0f921\"]]},\"colorway\":[\"#636efa\",\"#EF553B\",\"#00cc96\",\"#ab63fa\",\"#FFA15A\",\"#19d3f3\",\"#FF6692\",\"#B6E880\",\"#FF97FF\",\"#FECB52\"],\"font\":{\"color\":\"#2a3f5f\"},\"geo\":{\"bgcolor\":\"white\",\"lakecolor\":\"white\",\"landcolor\":\"#E5ECF6\",\"showlakes\":true,\"showland\":true,\"subunitcolor\":\"white\"},\"hoverlabel\":{\"align\":\"left\"},\"hovermode\":\"closest\",\"mapbox\":{\"style\":\"light\"},\"paper_bgcolor\":\"white\",\"plot_bgcolor\":\"#E5ECF6\",\"polar\":{\"angularaxis\":{\"gridcolor\":\"white\",\"linecolor\":\"white\",\"ticks\":\"\"},\"bgcolor\":\"#E5ECF6\",\"radialaxis\":{\"gridcolor\":\"white\",\"linecolor\":\"white\",\"ticks\":\"\"}},\"scene\":{\"xaxis\":{\"backgroundcolor\":\"#E5ECF6\",\"gridcolor\":\"white\",\"gridwidth\":2,\"linecolor\":\"white\",\"showbackground\":true,\"ticks\":\"\",\"zerolinecolor\":\"white\"},\"yaxis\":{\"backgroundcolor\":\"#E5ECF6\",\"gridcolor\":\"white\",\"gridwidth\":2,\"linecolor\":\"white\",\"showbackground\":true,\"ticks\":\"\",\"zerolinecolor\":\"white\"},\"zaxis\":{\"backgroundcolor\":\"#E5ECF6\",\"gridcolor\":\"white\",\"gridwidth\":2,\"linecolor\":\"white\",\"showbackground\":true,\"ticks\":\"\",\"zerolinecolor\":\"white\"}},\"shapedefaults\":{\"line\":{\"color\":\"#2a3f5f\"}},\"ternary\":{\"aaxis\":{\"gridcolor\":\"white\",\"linecolor\":\"white\",\"ticks\":\"\"},\"baxis\":{\"gridcolor\":\"white\",\"linecolor\":\"white\",\"ticks\":\"\"},\"bgcolor\":\"#E5ECF6\",\"caxis\":{\"gridcolor\":\"white\",\"linecolor\":\"white\",\"ticks\":\"\"}},\"title\":{\"x\":0.05},\"xaxis\":{\"automargin\":true,\"gridcolor\":\"white\",\"linecolor\":\"white\",\"ticks\":\"\",\"title\":{\"standoff\":15},\"zerolinecolor\":\"white\",\"zerolinewidth\":2},\"yaxis\":{\"automargin\":true,\"gridcolor\":\"white\",\"linecolor\":\"white\",\"ticks\":\"\",\"title\":{\"standoff\":15},\"zerolinecolor\":\"white\",\"zerolinewidth\":2}}},\"xaxis\":{\"anchor\":\"y\",\"domain\":[0.0,1.0],\"title\":{\"text\":\"State/UTs\"}},\"yaxis\":{\"anchor\":\"x\",\"domain\":[0.0,1.0],\"title\":{\"text\":\"Total Cases\"}}},                        {\"responsive\": true}                    ).then(function(){\n",
       "                            \n",
       "var gd = document.getElementById('fa905a63-ece9-4165-a52a-57398f654702');\n",
       "var x = new MutationObserver(function (mutations, observer) {{\n",
       "        var display = window.getComputedStyle(gd).display;\n",
       "        if (!display || display === 'none') {{\n",
       "            console.log([gd, 'removed!']);\n",
       "            Plotly.purge(gd);\n",
       "            observer.disconnect();\n",
       "        }}\n",
       "}});\n",
       "\n",
       "// Listen for the removal of the full notebook cells\n",
       "var notebookContainer = gd.closest('#notebook-container');\n",
       "if (notebookContainer) {{\n",
       "    x.observe(notebookContainer, {childList: true});\n",
       "}}\n",
       "\n",
       "// Listen for the clearing of the current output cell\n",
       "var outputEl = gd.closest('.output');\n",
       "if (outputEl) {{\n",
       "    x.observe(outputEl, {childList: true});\n",
       "}}\n",
       "\n",
       "                        })                };                });            </script>        </div>"
      ]
     },
     "metadata": {},
     "output_type": "display_data"
    }
   ],
   "source": [
    "figure = px.bar(df,x = 'State/UTs',y ='Total Cases',color='Case Status')\n",
    "figure.show()"
   ]
  },
  {
   "cell_type": "code",
   "execution_count": 43,
   "id": "6e3ea177",
   "metadata": {},
   "outputs": [
    {
     "data": {
      "image/png": "[encoded data removed]",
      "text/plain": [
       "<Figure size 432x288 with 1 Axes>"
      ]
     },
     "metadata": {
      "needs_background": "light"
     },
     "output_type": "display_data"
    }
   ],
   "source": [
    "sorted_data = df.sort_values(by='Death Ratio (%)', ascending=False).head(10)\n",
    "plt.bar(sorted_data['State/UTs'],sorted_data['Death Ratio (%)'])\n",
    "\n",
    "plt.xlabel('State/UTs')\n",
    "plt.ylabel('Percentage(death ratio)')\n",
    "plt.title('highest number of deaths')\n",
    "plt.xticks(rotation=90)\n",
    "plt.show()"
   ]
  }
 ],
 "metadata": {
  "kernelspec": {
   "display_name": "Python 3",
   "language": "python",
   "name": "python3"
  },
  "language_info": {
   "codemirror_mode": {
    "name": "ipython",
    "version": 3
   },
   "file_extension": ".py",
   "mimetype": "text/x-python",
   "name": "python",
   "nbconvert_exporter": "python",
   "pygments_lexer": "ipython3",
   "version": "3.8.8"
  }
 },
 "nbformat": 4,
 "nbformat_minor": 5
}
